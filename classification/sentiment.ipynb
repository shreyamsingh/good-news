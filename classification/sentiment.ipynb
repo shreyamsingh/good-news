# %% markdown
# # Sentiment Analysis For News Articles
# ### Imports
# %% codecell
import config
import requests
from nltk.corpus import twitter_samples
from nltk.tag import pos_tag
from nltk.stem.wordnet import WordNetLemmatizer
import re, string
from nltk.corpus import stopwords
from nltk import FreqDist
from nltk import classify
from nltk import NaiveBayesClassifier
from nltk.tokenize import word_tokenize
import pandas as pd
from io import StringIO
# %% codecell
positive_tweets = twitter_samples.strings('positive_tweets.json')
negative_tweets = twitter_samples.strings('negative_tweets.json')
text = twitter_samples.strings('tweets.20150430-223406.json')
# %% markdown
# ### Tokenizing
# %% codecell
tweet_tokens = twitter_samples.tokenized('positive_tweets.json')
print(tweet_tokens[0])
# %% codecell
positive_tweet_tokens = twitter_samples.tokenized('positive_tweets.json')
negative_tweet_tokens = twitter_samples.tokenized('negative_tweets.json')
# %% markdown
# ### Normalization
# %% markdown
# see: https://www.ling.upenn.edu/courses/Fall_2003/ling001/penn_treebank_pos.html for meanings
# %% codecell
print(pos_tag(tweet_tokens[0]))
# %% markdown
# #### Lemmatization
# %% codecell
def lemmatize_sentence(tokens):
    lemmatizer = WordNetLemmatizer()
    lemmatized_sentence = []
    for word, tag in pos_tag(tokens):
        if tag.startswith('NN'):
            pos = 'n'
        elif tag.startswith('VB'):
            pos = 'v'
        else:
            pos = 'a'
        lemmatized_sentence.append(lemmatizer.lemmatize(word, pos))
    return lemmatized_sentence
# %% codecell
print(lemmatize_sentence(tweet_tokens[0]))
# %% markdown
# ### Removing Noise
# %% markdown
# remove hyperlinks, twitter handles, punctuation & special characters
# %% codecell
def remove_noise(tweet_tokens, stop_words = ()):
    cleaned_tokens = []

    for token, tag in pos_tag(tweet_tokens):
        token =  re.sub('http[s]?://(?:[a-zA-Z]|[0-9]|[$-_@.&+#]|[!*\(\),]|'\
                       '(?:%[0-9a-fA-F][0-9a-fA-F]))+','', token)
        token = re.sub("(@[A-Za-z0-9_]+)", "", token)

        if tag.startswith("NN"):
            pos = 'n'
        elif tag.startswith('VB'):
            pos = 'v'
        else:
            pos = 'a'

        lemmatizer = WordNetLemmatizer()
        token = lemmatizer.lemmatize(token, pos)

        if len(token) > 0 and token not in string.punctuation and token.lower() not in stop_words:
                cleaned_tokens.append(token.lower())
    return cleaned_tokens
# %% codecell
stop_words = stopwords.words('english')
print(remove_noise(tweet_tokens[0], stop_words))
# %% codecell
positive_cleaned = []
negative_cleaned = []
for token in positive_tweet_tokens:
    positive_cleaned.append(remove_noise(token, stop_words))
for token in negative_tweet_tokens:
    negative_cleaned.append(remove_noise(token, stop_words))
# %% codecell
print(positive_tweet_tokens[500])
print(positive_cleaned[500])
print(negative_tweet_tokens[500])
print(negative_cleaned[500])
# %% markdown
# ### Word Density
# %% codecell
def get_all_words(cleaned_tokens):
    for tokens in cleaned_tokens:
        for token in tokens:
            yield token
# %% codecell
all_pos_words = get_all_words(positive_cleaned)
# %% codecell
freq_dist_pos = FreqDist(all_pos_words)
print(freq_dist_pos.most_common(10))
# %% markdown
# ### Prepare Data
# %% codecell
def get_tweets_for_model(cleaned_tokens):
    for tweet_tokens in cleaned_tokens:
        yield dict([token, True] for token in tweet_tokens)
# %% codecell
positive_tokens_for_model = get_tweets_for_model(positive_cleaned)
negative_tokens_for_model = get_tweets_for_model(negative_cleaned)
# %% codecell
import random
positive_dataset = [(tweet_dict, "Positive") for tweet_dict in positive_tokens_for_model]
negative_dataset = [(tweet_dict, "Negative") for tweet_dict in negative_tokens_for_model]
dataset = positive_dataset + negative_dataset

random.shuffle(dataset)

train_data = dataset[:7000]
test_data = dataset[7000:]
# %% markdown
# ### Build Model
# %% codecell
classifier = NaiveBayesClassifier.train(train_data)
# %% codecell
print("accuracy: {}".format(classify.accuracy(classifier, test_data)))
classifier.show_most_informative_features(10)
# %% codecell
import pickle
f = open('classifier.pickle', 'wb')
pickle.dump(classifier, f)
f.close()
# %% codecell
custom = "rip"
custom_tokens = remove_noise(word_tokenize(custom))
print(classifier.classify(dict([token,True] for token in custom_tokens)))
dist = classifier.prob_classify(dict([token, True] for token in custom_tokens))
print(dist.prob("Negative"))
# %% codecell
import config
# %% codecell
api_key = config.API_KEY
url = (r'https://newsapi.org/v2/everything?q=happy&from=2020-07-10&to=2020-07-19&sortBy=popularity&apiKey=' + api_key)
response = requests.get(url).json()
# %% codecell
print(response)
# %% codecell
def getProbs(text):
    tokens = remove_noise(word_tokenize(text))
    output = classifier.classify(dict([token, True] for token in tokens))
    dist = classifier.prob_classify(dict([token, True] for token in tokens))
    #return (output, dist.prob("Positive"))
    return dist.prob("Positive")
# %% codecell
df = pd.DataFrame(columns=["Title", "Content", "URL", "imgURL", "Sentiment"])
for article in response["articles"]:
    overallSent = (getProbs(article["title"]) + getProbs(article["content"]) + getProbs(article["description"]))/3
    to_append = [article["title"], article["content"], article["url"], article["urlToImage"], overallSent]
    df.loc[len(df)] = to_append
df = df.sort_values(by=['Sentiment'])
df = df.reset_index(drop=False)
# %% codecell
for i in range(len(df)-1, len(df)-6, -1):
    print(df.loc[i]["URL"])
    print(df.loc[i]["imgURL"])
# %% codecell
df
# %% codecell
