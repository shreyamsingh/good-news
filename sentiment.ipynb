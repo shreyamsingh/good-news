{
 "cells": [
  {
   "cell_type": "markdown",
   "metadata": {},
   "source": [
    "# Sentiment Analysis For News Articles\n",
    "### Imports"
   ]
  },
  {
   "cell_type": "code",
   "execution_count": 34,
   "metadata": {},
   "outputs": [],
   "source": [
    "import config\n",
    "import requests\n",
    "from nltk.corpus import twitter_samples\n",
    "from nltk.tag import pos_tag\n",
    "from nltk.stem.wordnet import WordNetLemmatizer\n",
    "import re, string\n",
    "from nltk.corpus import stopwords\n",
    "from nltk import FreqDist\n",
    "from nltk import classify\n",
    "from nltk import NaiveBayesClassifier\n",
    "from nltk.tokenize import word_tokenize\n",
    "import pandas as pd\n",
    "from io import StringIO"
   ]
  },
  {
   "cell_type": "code",
   "execution_count": 35,
   "metadata": {},
   "outputs": [],
   "source": [
    "positive_tweets = twitter_samples.strings('positive_tweets.json')\n",
    "negative_tweets = twitter_samples.strings('negative_tweets.json')\n",
    "text = twitter_samples.strings('tweets.20150430-223406.json')"
   ]
  },
  {
   "cell_type": "markdown",
   "metadata": {},
   "source": [
    "### Tokenizing"
   ]
  },
  {
   "cell_type": "code",
   "execution_count": 36,
   "metadata": {},
   "outputs": [
    {
     "name": "stdout",
     "output_type": "stream",
     "text": [
      "['#FollowFriday', '@France_Inte', '@PKuchly57', '@Milipol_Paris', 'for', 'being', 'top', 'engaged', 'members', 'in', 'my', 'community', 'this', 'week', ':)']\n"
     ]
    }
   ],
   "source": [
    "tweet_tokens = twitter_samples.tokenized('positive_tweets.json')\n",
    "print(tweet_tokens[0])"
   ]
  },
  {
   "cell_type": "code",
   "execution_count": 37,
   "metadata": {},
   "outputs": [],
   "source": [
    "positive_tweet_tokens = twitter_samples.tokenized('positive_tweets.json')\n",
    "negative_tweet_tokens = twitter_samples.tokenized('negative_tweets.json')"
   ]
  },
  {
   "cell_type": "markdown",
   "metadata": {},
   "source": [
    "### Normalization"
   ]
  },
  {
   "cell_type": "markdown",
   "metadata": {},
   "source": [
    "see: https://www.ling.upenn.edu/courses/Fall_2003/ling001/penn_treebank_pos.html for meanings"
   ]
  },
  {
   "cell_type": "code",
   "execution_count": 38,
   "metadata": {},
   "outputs": [
    {
     "name": "stdout",
     "output_type": "stream",
     "text": [
      "[('#FollowFriday', 'JJ'), ('@France_Inte', 'NNP'), ('@PKuchly57', 'NNP'), ('@Milipol_Paris', 'NNP'), ('for', 'IN'), ('being', 'VBG'), ('top', 'JJ'), ('engaged', 'VBN'), ('members', 'NNS'), ('in', 'IN'), ('my', 'PRP$'), ('community', 'NN'), ('this', 'DT'), ('week', 'NN'), (':)', 'NN')]\n"
     ]
    }
   ],
   "source": [
    "print(pos_tag(tweet_tokens[0]))"
   ]
  },
  {
   "cell_type": "markdown",
   "metadata": {},
   "source": [
    "#### Lemmatization"
   ]
  },
  {
   "cell_type": "code",
   "execution_count": 39,
   "metadata": {},
   "outputs": [],
   "source": [
    "def lemmatize_sentence(tokens):\n",
    "    lemmatizer = WordNetLemmatizer()\n",
    "    lemmatized_sentence = []\n",
    "    for word, tag in pos_tag(tokens):\n",
    "        if tag.startswith('NN'):\n",
    "            pos = 'n'\n",
    "        elif tag.startswith('VB'):\n",
    "            pos = 'v'\n",
    "        else:\n",
    "            pos = 'a'\n",
    "        lemmatized_sentence.append(lemmatizer.lemmatize(word, pos))\n",
    "    return lemmatized_sentence"
   ]
  },
  {
   "cell_type": "code",
   "execution_count": 40,
   "metadata": {},
   "outputs": [
    {
     "name": "stdout",
     "output_type": "stream",
     "text": [
      "['#FollowFriday', '@France_Inte', '@PKuchly57', '@Milipol_Paris', 'for', 'be', 'top', 'engage', 'member', 'in', 'my', 'community', 'this', 'week', ':)']\n"
     ]
    }
   ],
   "source": [
    "print(lemmatize_sentence(tweet_tokens[0]))"
   ]
  },
  {
   "cell_type": "markdown",
   "metadata": {},
   "source": [
    "### Removing Noise"
   ]
  },
  {
   "cell_type": "markdown",
   "metadata": {},
   "source": [
    "remove hyperlinks, twitter handles, punctuation & special characters"
   ]
  },
  {
   "cell_type": "code",
   "execution_count": 41,
   "metadata": {},
   "outputs": [],
   "source": [
    "def remove_noise(tweet_tokens, stop_words = ()):\n",
    "    cleaned_tokens = []\n",
    "    \n",
    "    for token, tag in pos_tag(tweet_tokens):\n",
    "        token =  re.sub('http[s]?://(?:[a-zA-Z]|[0-9]|[$-_@.&+#]|[!*\\(\\),]|'\\\n",
    "                       '(?:%[0-9a-fA-F][0-9a-fA-F]))+','', token)\n",
    "        token = re.sub(\"(@[A-Za-z0-9_]+)\", \"\", token)\n",
    "        \n",
    "        if tag.startswith(\"NN\"):\n",
    "            pos = 'n'\n",
    "        elif tag.startswith('VB'):\n",
    "            pos = 'v'\n",
    "        else:\n",
    "            pos = 'a'\n",
    "\n",
    "        lemmatizer = WordNetLemmatizer()\n",
    "        token = lemmatizer.lemmatize(token, pos)\n",
    "    \n",
    "        if len(token) > 0 and token not in string.punctuation and token.lower() not in stop_words:\n",
    "                cleaned_tokens.append(token.lower())\n",
    "    return cleaned_tokens"
   ]
  },
  {
   "cell_type": "code",
   "execution_count": 42,
   "metadata": {},
   "outputs": [
    {
     "name": "stdout",
     "output_type": "stream",
     "text": [
      "['#followfriday', 'top', 'engage', 'member', 'community', 'week', ':)']\n"
     ]
    }
   ],
   "source": [
    "stop_words = stopwords.words('english')\n",
    "print(remove_noise(tweet_tokens[0], stop_words))"
   ]
  },
  {
   "cell_type": "code",
   "execution_count": 43,
   "metadata": {},
   "outputs": [],
   "source": [
    "positive_cleaned = []\n",
    "negative_cleaned = []\n",
    "for token in positive_tweet_tokens:\n",
    "    positive_cleaned.append(remove_noise(token, stop_words))\n",
    "for token in negative_tweet_tokens:    \n",
    "    negative_cleaned.append(remove_noise(token, stop_words))"
   ]
  },
  {
   "cell_type": "code",
   "execution_count": 44,
   "metadata": {},
   "outputs": [
    {
     "name": "stdout",
     "output_type": "stream",
     "text": [
      "['Dang', 'that', 'is', 'some', 'rad', '@AbzuGame', '#fanart', '!', ':D', 'https://t.co/bI8k8tb9ht']\n",
      "['dang', 'rad', '#fanart', ':d']\n",
      "['Can', 'u', 'feel', 'it', '?', ':(', '(:', '(', '#exo', 'http://t.co/ghsa262ORm']\n",
      "['u', 'feel', ':(', '(:', '#exo']\n"
     ]
    }
   ],
   "source": [
    "print(positive_tweet_tokens[500])\n",
    "print(positive_cleaned[500])\n",
    "print(negative_tweet_tokens[500])\n",
    "print(negative_cleaned[500])"
   ]
  },
  {
   "cell_type": "markdown",
   "metadata": {},
   "source": [
    "### Word Density"
   ]
  },
  {
   "cell_type": "code",
   "execution_count": 45,
   "metadata": {},
   "outputs": [],
   "source": [
    "def get_all_words(cleaned_tokens):\n",
    "    for tokens in cleaned_tokens:\n",
    "        for token in tokens:\n",
    "            yield token"
   ]
  },
  {
   "cell_type": "code",
   "execution_count": 46,
   "metadata": {},
   "outputs": [],
   "source": [
    "all_pos_words = get_all_words(positive_cleaned)"
   ]
  },
  {
   "cell_type": "code",
   "execution_count": 47,
   "metadata": {},
   "outputs": [
    {
     "name": "stdout",
     "output_type": "stream",
     "text": [
      "[(':)', 3691), (':-)', 701), (':d', 658), ('thanks', 388), ('follow', 357), ('love', 333), ('...', 290), ('good', 283), ('get', 263), ('thank', 253)]\n"
     ]
    }
   ],
   "source": [
    "freq_dist_pos = FreqDist(all_pos_words)\n",
    "print(freq_dist_pos.most_common(10))"
   ]
  },
  {
   "cell_type": "markdown",
   "metadata": {},
   "source": [
    "### Prepare Data"
   ]
  },
  {
   "cell_type": "code",
   "execution_count": 48,
   "metadata": {},
   "outputs": [],
   "source": [
    "def get_tweets_for_model(cleaned_tokens):\n",
    "    for tweet_tokens in cleaned_tokens:\n",
    "        yield dict([token, True] for token in tweet_tokens)"
   ]
  },
  {
   "cell_type": "code",
   "execution_count": 49,
   "metadata": {},
   "outputs": [],
   "source": [
    "positive_tokens_for_model = get_tweets_for_model(positive_cleaned)\n",
    "negative_tokens_for_model = get_tweets_for_model(negative_cleaned)"
   ]
  },
  {
   "cell_type": "code",
   "execution_count": 50,
   "metadata": {},
   "outputs": [],
   "source": [
    "import random\n",
    "positive_dataset = [(tweet_dict, \"Positive\") for tweet_dict in positive_tokens_for_model]\n",
    "negative_dataset = [(tweet_dict, \"Negative\") for tweet_dict in negative_tokens_for_model]\n",
    "dataset = positive_dataset + negative_dataset\n",
    "\n",
    "random.shuffle(dataset)\n",
    "\n",
    "train_data = dataset[:7000]\n",
    "test_data = dataset[7000:]"
   ]
  },
  {
   "cell_type": "markdown",
   "metadata": {},
   "source": [
    "### Build Model"
   ]
  },
  {
   "cell_type": "code",
   "execution_count": 51,
   "metadata": {},
   "outputs": [],
   "source": [
    "classifier = NaiveBayesClassifier.train(train_data)"
   ]
  },
  {
   "cell_type": "code",
   "execution_count": 52,
   "metadata": {},
   "outputs": [
    {
     "name": "stdout",
     "output_type": "stream",
     "text": [
      "accuracy: 0.9933333333333333\n",
      "Most Informative Features\n",
      "                      :( = True           Negati : Positi =   2075.2 : 1.0\n",
      "                      :) = True           Positi : Negati =   1649.7 : 1.0\n",
      "                follower = True           Positi : Negati =     22.4 : 1.0\n",
      "                     bam = True           Positi : Negati =     20.9 : 1.0\n",
      "                     sad = True           Negati : Positi =     18.9 : 1.0\n",
      "                    glad = True           Positi : Negati =     18.9 : 1.0\n",
      "                     x15 = True           Negati : Positi =     16.4 : 1.0\n",
      "                     via = True           Positi : Negati =     16.3 : 1.0\n",
      "                 welcome = True           Positi : Negati =     14.3 : 1.0\n",
      "                     ugh = True           Negati : Positi =     13.8 : 1.0\n"
     ]
    }
   ],
   "source": [
    "print(\"accuracy: {}\".format(classify.accuracy(classifier, test_data)))\n",
    "classifier.show_most_informative_features(10)"
   ]
  },
  {
   "cell_type": "code",
   "execution_count": 53,
   "metadata": {},
   "outputs": [],
   "source": [
    "import pickle\n",
    "f = open('classifier.pickle', 'wb')\n",
    "pickle.dump(classifier, f)\n",
    "f.close()"
   ]
  },
  {
   "cell_type": "code",
   "execution_count": 20,
   "metadata": {},
   "outputs": [
    {
     "name": "stdout",
     "output_type": "stream",
     "text": [
      "Negative\n",
      "0.7307692628772023\n"
     ]
    }
   ],
   "source": [
    "custom = \"rip\"\n",
    "custom_tokens = remove_noise(word_tokenize(custom))\n",
    "print(classifier.classify(dict([token,True] for token in custom_tokens)))\n",
    "dist = classifier.prob_classify(dict([token, True] for token in custom_tokens))\n",
    "print(dist.prob(\"Negative\"))"
   ]
  },
  {
   "cell_type": "code",
   "execution_count": 21,
   "metadata": {},
   "outputs": [],
   "source": [
    "import config"
   ]
  },
  {
   "cell_type": "code",
   "execution_count": 22,
   "metadata": {},
   "outputs": [],
   "source": [
    "api_key = config.API_KEY\n",
    "url = (r'https://newsapi.org/v2/everything?q=happy&from=2020-07-10&to=2020-07-19&sortBy=popularity&apiKey=' + api_key)\n",
    "response = requests.get(url).json()"
   ]
  },
  {
   "cell_type": "code",
   "execution_count": 28,
   "metadata": {},
   "outputs": [
    {
     "name": "stdout",
     "output_type": "stream",
     "text": [
      "{'status': 'ok', 'totalResults': 14316, 'articles': [{'source': {'id': None, 'name': 'Lifehacker.com'}, 'author': 'Claire Lower on Skillet, shared by Claire Lower to Lifehacker', 'title': 'Turn Your Frappucino Into an Alcoholic Slushie', 'description': 'Bottled Frappuccinos will never fail to transport me to the year 1999. I am 13 years old—all Clinique Happy and butterfly clips—and sipping a chilled Mocha coffee drink from a glass bottle seems like the height of adult sophistication. I hadn’t really thought…', 'url': 'https://skillet.lifehacker.com/turn-your-frappucino-into-an-alcoholic-slushie-1844380775', 'urlToImage': 'https://i.kinja-img.com/gawker-media/image/upload/c_fill,f_auto,fl_progressive,g_center,h_675,pg_1,q_80,w_1200/hkjnyc9g4fdywpvxkytw.jpg', 'publishedAt': '2020-07-15T13:30:00Z', 'content': 'Bottled Frappuccinos will never fail to transport me to the year 1999. I am 13 years oldall Clinique Happy and butterfly clipsand sipping a chilled Mocha coffee drink from a glass bottle seems like t… [+1681 chars]'}, {'source': {'id': None, 'name': 'Lifehacker.com'}, 'author': 'Meghan Moravcik Walbert on Offspring, shared by Meghan Moravcik Walbert to Lifehacker', 'title': 'Parents, Take More Pictures of Yourself', 'description': 'There are lots of reasons that parents—and yes, particularly moms—dodge the camera. We haven’t had a proper night’s sleep in multiple years, as the dark circles under our eyes can attest. Or we just woke up and our pajamas have holes in them and our hair is d…', 'url': 'https://offspring.lifehacker.com/parents-take-more-pictures-of-yourself-1844326074', 'urlToImage': 'https://i.kinja-img.com/gawker-media/image/upload/c_fill,f_auto,fl_progressive,g_center,h_675,pg_1,q_80,w_1200/bjvi2dlbw1uebuzoywww.jpg', 'publishedAt': '2020-07-10T18:00:00Z', 'content': 'There are lots of reasons that parentsand yes, particularly momsdodge the camera. We havent had a proper nights sleep in multiple years, as the dark circles under our eyes can attest. Or we just woke… [+1784 chars]'}, {'source': {'id': None, 'name': 'Lifehacker.com'}, 'author': 'Elizabeth Yuko', 'title': 'Scream Into Your Phone and Have it Played on a Speaker in Iceland', 'description': 'Have you been so angry, frustrated and/or stressed lately that you just want to scream as long as you can into the void? Us, too. But as it turns out, we now have the option of having our blood-curdling wails echo throughout the land—specifically, Iceland. Th…', 'url': 'https://lifehacker.com/scream-into-your-phone-and-have-it-played-on-a-speaker-1844417386', 'urlToImage': 'https://i.kinja-img.com/gawker-media/image/upload/c_fill,f_auto,fl_progressive,g_center,h_675,pg_1,q_80,w_1200/hxzedvjd4nxtrjhouncs.jpg', 'publishedAt': '2020-07-18T13:00:00Z', 'content': 'Have you been so angry, frustrated and/or stressed lately that you just want to scream as long as you can into the void? Us, too. But as it turns out, we now have the option of having our blood-curdl… [+1762 chars]'}, {'source': {'id': None, 'name': 'Lifehacker.com'}, 'author': 'Joel Cunningham', 'title': \"What's Coming to Hulu in August 2020\", 'description': 'Early in lockdown—when I was trying to tell myself things might all be back to near-normal by summer, even though I knew I was kidding myself—I didn’t want to watch any movie that wasn’t a 1980s comedy. But some five months later, I’ve become so numbed to the…', 'url': 'https://lifehacker.com/whats-coming-to-hulu-in-august-2020-1844418931', 'urlToImage': 'https://i.kinja-img.com/gawker-media/image/upload/c_fill,f_auto,fl_progressive,g_center,h_675,pg_1,q_80,w_1200/kdgvgjcedv0dsobq1lf9.jpg', 'publishedAt': '2020-07-17T16:30:00Z', 'content': 'Early in lockdownwhen I was trying to tell myself things might all be back to near-normal by summer, even though I knew I was kidding myselfI didnt want to watch any movie that wasnt a 1980s comedy. … [+6489 chars]'}, {'source': {'id': None, 'name': 'Lifehacker.com'}, 'author': 'Kristin Wong', 'title': 'How to Introduce Yourself to a Dog', 'description': 'Dogs are the best people, so it’s only natural to want to smother them with affection when you greet them for the first time. Most of them are too nice to say it, but this is actually a terrible way to introduce yourself to a dog. Here’s a better way to make …', 'url': 'https://lifehacker.com/how-to-introduce-yourself-to-a-dog-1794744432', 'urlToImage': 'https://i.kinja-img.com/gawker-media/image/upload/c_fill,f_auto,fl_progressive,g_center,h_675,pg_1,q_80,w_1200/cbvibtwlntabekcp4ei1.jpg', 'publishedAt': '2020-07-14T17:30:00Z', 'content': 'Dogs are the best people, so its only natural to want to smother them with affection when you greet them for the first time. Most of them are too nice to say it, but this is actually a terrible way t… [+3832 chars]'}, {'source': {'id': None, 'name': 'Lifehacker.com'}, 'author': 'David Murphy', 'title': \"Should I Buy an External Graphics Card If My Laptop Can't Game?\", 'description': 'I enjoy playing PC games at reasonable resolutions and quality settings without setting my legs or desk on fire, which is why I typically don’t even think about a laptop’s gaming capabilities when I’m shopping for something new. Why bother, when my desktop (a…', 'url': 'https://lifehacker.com/should-i-buy-an-external-graphics-card-if-my-laptop-can-1844405307', 'urlToImage': 'https://i.kinja-img.com/gawker-media/image/upload/c_fill,f_auto,fl_progressive,g_center,h_675,pg_1,q_80,w_1200/yhqcr91y1vmiha7gqejx.jpg', 'publishedAt': '2020-07-17T13:00:00Z', 'content': 'I enjoy playing PC games at reasonable resolutions and quality settings without setting my legs or desk on fire, which is why I typically dont even think about a laptops gaming capabilities when Im s… [+7108 chars]'}, {'source': {'id': 'engadget', 'name': 'Engadget'}, 'author': 'Daniel Cooper', 'title': \"Netflix says 'Extraction' and 'Bird Box' are its two most popular original films\", 'description': 'Extraction, the latest Netflix original movie starring Chris Hemsworth, is the biggest Netflix original movie ever. That’s at least according to Netflix who, as reported by Bloomberg, has revealed its top 10 original films. Topping the list is Extraction, whi…', 'url': 'https://www.engadget.com/netflix-top-10-original-movies-132512790.html', 'urlToImage': 'https://o.aolcdn.com/images/dims?resize=1200%2C630&crop=1200%2C630%2C0%2C0&quality=95&image_uri=https%3A%2F%2Fs.yimg.com%2Fos%2Fcreatr-images%2F2020-07%2Ff2bdb190-c69b-11ea-bed2-76ba2162cf53&client=amp-blogside-v2&signature=026a404311f3beb39d2edac24a2e2bd1006203a7', 'publishedAt': '2020-07-15T13:25:12Z', 'content': 'Of interest is that while Netflix’s commissions are normally skewed toward the domestic US market, one entrant in the list is the Spanish-language horror The Platform (56.2 million). This is the seco… [+1629 chars]'}, {'source': {'id': 'engadget', 'name': 'Engadget'}, 'author': 'Nick Summers', 'title': \"Kano's $300 DIY Windows 10 PC Kit is finally ready\", 'description': 'A little more than a year ago, Kano unveiled a colorful build-it-yourself tablet running Windows 10. But then the company went quiet and, well, we never knew if the product actually came out. The Kano PC was sold, it turns out, but only to a small group of fa…', 'url': 'https://www.engadget.com/kano-build-yourself-windows-10-pc-coding-relaunch-130016706.html', 'urlToImage': 'https://o.aolcdn.com/images/dims?resize=1200%2C630&crop=1200%2C630%2C0%2C0&quality=95&image_uri=https%3A%2F%2Fs.yimg.com%2Fos%2Fcreatr-uploaded-images%2F2020-07%2Fb35cf710-c5b8-11ea-b7ea-017285b2969b&client=amp-blogside-v2&signature=986ec080123439942cf3df9869924edd9e279666', 'publishedAt': '2020-07-14T13:00:16Z', 'content': 'Kano has made a number of changes, though, for the second-gen model. “Every aspect of the physical and electronic design has been improved,” a company spokesperson told Engadget. The biggest upgrade … [+2986 chars]'}, {'source': {'id': 'engadget', 'name': 'Engadget'}, 'author': 'Andrew Tarantola', 'title': 'Hitting the Books: How to huck a human into low Earth orbit', 'description': 'Astronauts may get the glory for successful spaceflights but they’d never even get off the ground if not for the folks at Mission Control. In Shuttle, Houston: My Life in the Center Seat of Mission Control, Paul Dye vividly recounts his 20-year career as NASA…', 'url': 'https://www.engadget.com/hitting-the-books-shuttle-houston-paul-dye-150017665.html', 'urlToImage': 'https://o.aolcdn.com/images/dims?resize=1200%2C630&crop=1200%2C630%2C0%2C0&quality=95&image_uri=https%3A%2F%2Fs.yimg.com%2Fos%2Fcreatr-images%2F2020-07%2F19963240-c338-11ea-b3bf-32ecd2b426c2&client=amp-blogside-v2&signature=9f9ac971e1c20fe725ccd07904862c18ec803f04', 'publishedAt': '2020-07-18T15:00:17Z', 'content': 'The phrase orbital mechanics—like nuclear particle physics or the theory ofrelativity—is something that makes many people’s eyes glaze over. The average person thinks that subjects like these are far… [+17087 chars]'}, {'source': {'id': 'techcrunch', 'name': 'TechCrunch'}, 'author': 'Natasha Lomas', 'title': 'Europe’s top court strikes down flagship EU-US data transfer mechanism', 'description': 'A highly anticipated ruling by Europe’s top court has just landed — striking down a flagship EU-US data flows arrangement called Privacy Shield. #ECJ: the Decision on the adequacy of the protection provided by the EU-US Data Protection Shield is invalidated, …', 'url': 'http://techcrunch.com/2020/07/16/europes-top-court-strikes-down-flagship-eu-us-data-transfer-mechanism/', 'urlToImage': 'https://techcrunch.com/wp-content/uploads/2015/11/data-privacy-law.png?w=711', 'publishedAt': '2020-07-16T08:10:17Z', 'content': 'A highly anticipated ruling by Europe’s top court has just landed — striking down a flagship EU-US data flows arrangement called Privacy Shield.\\r\\nThe case — known colloquially as Schrems II (in refer… [+4783 chars]'}, {'source': {'id': None, 'name': 'Gizmodo.com'}, 'author': 'Matt Novak', 'title': 'Dozens of U.S. Marines Test Positive For Covid-19 in Japan, Angering Local Authorities', 'description': 'At least 62 U.S. Marines have tested positive for coronavirus at American military bases in Japan, according to a new report from the Japan Times. It’s not yet clear whether the U.S. service members brought covid-19 with them from overseas or if they were inf…', 'url': 'https://gizmodo.com/dozens-of-u-s-marines-test-positive-for-covid-19-in-ja-1844359589', 'urlToImage': 'https://i.kinja-img.com/gawker-media/image/upload/c_fill,f_auto,fl_progressive,g_center,h_675,pg_1,q_80,w_1200/gxcc3tex7spbkxcvt9yp.jpg', 'publishedAt': '2020-07-13T10:45:00Z', 'content': 'At least 62 U.S. Marines have tested positive for coronavirus at American military bases in Japan, according to a new report from the Japan Times. Its not yet clear whether the U.S. service members b… [+3478 chars]'}, {'source': {'id': None, 'name': 'Gizmodo.com'}, 'author': 'Alyse Stanley', 'title': 'Researchers Created an App That Monitors Your Mental Health by Tracking Your Data', 'description': 'Even though I appreciate that it’s for a good cause, this app still sounds like something out of Minority Report.Read more...', 'url': 'https://gizmodo.com/researchers-created-an-app-that-monitors-mental-health-1844426460', 'urlToImage': 'https://i.kinja-img.com/gawker-media/image/upload/c_fill,f_auto,fl_progressive,g_center,h_675,pg_1,q_80,w_1200/a9yiugxoszjs6qbtwmec.jpg', 'publishedAt': '2020-07-18T04:25:00Z', 'content': 'Even though I appreciate that its for a good cause, this app still sounds like something out of Minority Report.\\r\\nResearchers at Dalhousie University in Canada have developed a smartphone app that tr… [+3784 chars]'}, {'source': {'id': None, 'name': 'Gizmodo.com'}, 'author': 'Victoria Song', 'title': 'How to Take Impossible Burgers to the Next Level When You’re Stuck at Home', 'description': 'Last night, I logged into a Zoom cooking class, as one does during a global pandemic where indoor, in-person activities are frowned upon. This class was a little fancy: It was led by Traci Des Jardins, a real bonafide chef, and the recipes were from Impossibl…', 'url': 'https://gizmodo.com/how-to-take-impossible-burgers-to-the-next-level-when-y-1844375336', 'urlToImage': 'https://i.kinja-img.com/gawker-media/image/upload/c_fill,f_auto,fl_progressive,g_center,h_675,pg_1,q_80,w_1200/oqirurlg8stkda6zazmq.jpg', 'publishedAt': '2020-07-14T16:20:00Z', 'content': 'Last night, I logged into a Zoom cooking class, as one does during a global pandemic where indoor, in-person activities are frowned upon. This class was a little fancy: It was led by Traci Des Jardin… [+4510 chars]'}, {'source': {'id': None, 'name': 'Gizmodo.com'}, 'author': 'David Nield', 'title': 'Yes, You Should Still Change Your DNS Settings for Better Internet', 'description': 'The DNS (Domain Name System) server settings on your laptop, phone, or router are your gateway to the web. They convert easy-to-remember domain names into actual internet IP addresses, just like your contacts app converts names into actual phone numbers. You …', 'url': 'https://gizmodo.com/yes-you-should-still-change-your-dns-settings-for-bett-1828216684', 'urlToImage': 'https://i.kinja-img.com/gawker-media/image/upload/c_fill,f_auto,fl_progressive,g_center,h_675,pg_1,q_80,w_1200/qxl9llsfkeg4fjgdjivo.jpg', 'publishedAt': '2020-07-17T16:00:00Z', 'content': 'The DNS (Domain Name System) server settings on your laptop, phone, or router are your gateway to the web. They convert easy-to-remember domain names into actual internet IP addresses, just like your… [+7814 chars]'}, {'source': {'id': None, 'name': 'Gizmodo.com'}, 'author': 'Bryan Menegus', 'title': \"I'm Too Old to Learn a New Career, and Too Young to Retire\", 'description': 'Are you a frontline worker     dealing with new stresses or  irresponsible management? Is working (or     not working) from home starting  to take a psychological toll? How are     you coping with reopening? Submit a story using\\xa0this Google form or send me an…', 'url': 'https://gizmodo.com/im-too-old-to-learn-a-new-career-and-too-young-to-reti-1844294372', 'urlToImage': 'https://i.kinja-img.com/gawker-media/image/upload/c_fill,f_auto,fl_progressive,g_center,h_675,pg_1,q_80,w_1200/fxsevmieenp64omdvgte.jpg', 'publishedAt': '2020-07-16T15:00:00Z', 'content': 'Are you a frontline worker dealing with new stresses or irresponsible management? Is working (or not working) from home starting to take a psychological toll? How are you coping with reopening? Submi… [+10486 chars]'}, {'source': {'id': 'mashable', 'name': 'Mashable'}, 'author': 'Mashable Brand X', 'title': 'Almost 20 years on, Ivanisevic’s Wimbledon story is just as inspirational', 'description': 'Every sport has stories of underdogs who have risen to victory, but Ivanisevic’s Wimbledon triumph in 2001 has to be one of the most inspirational.\\xa0\\nDue to the prestigious tournament being cancelled this year, the AELTC have broken from tradition and made a w…', 'url': 'https://mashable.com/ad/article/ivanisevic-wimbledon/', 'urlToImage': 'https://mondrian.mashable.com/2020%252F07%252F16%252F09%252F0613fe26c3d84a0eb19dce4eaa8fd250.0a4d2.png%252F1200x630.png?signature=Ou_-FFmC11W8VtPKOm6uHsU4YNg=', 'publishedAt': '2020-07-16T14:27:16Z', 'content': 'Every sport has stories of underdogs who have risen to victory, but Ivanisevics Wimbledon triumph in 2001 has to be one of the most inspirational.\\xa0\\r\\nDue to the prestigious tournament being cancelled … [+1141 chars]'}, {'source': {'id': 'mashable', 'name': 'Mashable'}, 'author': 'Sam Haysom', 'title': \"Sir Ian McKellen recorded a very sweet video for Sir Patrick Stewart's 80th birthday\", 'description': 'Sir Patrick Stewart promised us another sonnet on his 80th birthday, and you\\'d better believe he delivered.\\nOr at least, his BFF did (with a little help from Stewart\\'s wife, Sunny Ozell).\\n\"Sunny and my team took over for my birthday, and arranged this gift fo…', 'url': 'https://mashable.com/article/sir-ian-mckellen-birthday-sonnet-patrick-stewart/', 'urlToImage': 'https://mondrian.mashable.com/2020%252F07%252F14%252F82%252F57c022de59fb45cc864c0a6881008a8e.1200a.jpg%252F1200x630.jpg?signature=VrolWbpTOKYid5z7IFZF8GB2WKY=', 'publishedAt': '2020-07-14T09:31:01Z', 'content': 'Sir Patrick Stewart promised us another sonnet on his 80th birthday, and you\\'d better believe he delivered.\\r\\nOr at least, his BFF did (with a little help from Stewart\\'s wife, Sunny Ozell).\\r\\n\"Sunny an… [+755 chars]'}, {'source': {'id': 'mashable', 'name': 'Mashable'}, 'author': 'Rachel Kraus', 'title': 'Seniors recreating famous album covers is your perfect lockdown escape', 'description': \"Residents of senior care facilities around the world have been under intense lockdown for months to prevent the spread of coronavirus. That's meant that people like Robert Speker, an activities coordinator at the care facility Sydmar Lodge in England, have ha…\", 'url': 'https://mashable.com/article/senior-care-facility-album-recreations/', 'urlToImage': 'https://mondrian.mashable.com/2020%252F07%252F12%252F8f%252F29e78a26c0b14c3aa8ca82d78660e78e.d9599.jpg%252F1200x630.jpg?signature=-ymFdkwoqi9iofeRyF1sqrpmLfo=', 'publishedAt': '2020-07-12T22:13:02Z', 'content': \"Residents of senior care facilities around the world have been under intense lockdown for months to prevent the spread of coronavirus. That's meant that people like Robert Speker, an activities coord… [+1177 chars]\"}, {'source': {'id': 'mashable', 'name': 'Mashable'}, 'author': 'Joseph Green', 'title': 'Unlock American Netflix with this discounted VPN', 'description': \"TL;DR: A three-year subscription to Surfshark VPN is on sale for £54.81 as of July 13, saving you 83% on list price.\\n\\nWhether you're a remote worker regularly using public WiFi networks, a gamer who stays connected around the clock, or just an average Netflix…\", 'url': 'https://mashable.com/uk/shopping/july-13-surfshark-vpn-subscription-deal/', 'urlToImage': 'https://mondrian.mashable.com/2020%252F07%252F13%252F67%252F21f8b9d5288240c381d98207dd9620b4.f46e6.png%252F1200x630.png?signature=ZqyZp5UNlWo509CDGNziTawC7b4=', 'publishedAt': '2020-07-13T04:00:00Z', 'content': \"TL;DR: A three-year subscription to Surfshark VPN is on sale for £54.81 as of July 13, saving you 83% on list price.\\r\\nWhether you're a remote worker regularly using public WiFi networks, a gamer who … [+1577 chars]\"}, {'source': {'id': 'mashable', 'name': 'Mashable'}, 'author': 'Tim Marcin', 'title': \"Chance the Rapper is catching major blowback for defending Kanye's 2020 'campaign'\", 'description': 'Chance the Rapper publicly and repeatedly tweeted his support for Kanye West\\'s presidential bid on Monday. Lots of folks weren\\'t happy.\\xa0\\nIt began with Chance commenting on a new video from his pal Kanye.\\n\"And yall out here tryna convince me to vote for Biden.…', 'url': 'https://mashable.com/article/chance-the-rapper-kanye-west-2020/', 'urlToImage': 'https://mondrian.mashable.com/2020%252F07%252F13%252Fcd%252Fe7d5f4c5fd7446a2b3679e5b0fda9716.75452.jpg%252F1200x630.jpg?signature=rvTgZ9gsK2JxAep4siVsc7V2FyA=', 'publishedAt': '2020-07-13T18:35:18Z', 'content': \"Chance the Rapper publicly and repeatedly tweeted his support for Kanye West's presidential bid on Monday. Lots of folks weren't happy.\\xa0\\r\\nIt began with Chance commenting on a new video from his pal K… [+4078 chars]\"}]}\n"
     ]
    }
   ],
   "source": [
    "print(response)"
   ]
  },
  {
   "cell_type": "code",
   "execution_count": 24,
   "metadata": {},
   "outputs": [],
   "source": [
    "def getProbs(text):\n",
    "    tokens = remove_noise(word_tokenize(text))\n",
    "    output = classifier.classify(dict([token, True] for token in tokens))\n",
    "    dist = classifier.prob_classify(dict([token, True] for token in tokens))\n",
    "    #return (output, dist.prob(\"Positive\"))\n",
    "    return dist.prob(\"Positive\")"
   ]
  },
  {
   "cell_type": "code",
   "execution_count": 29,
   "metadata": {},
   "outputs": [],
   "source": [
    "df = pd.DataFrame(columns=[\"Title\", \"Content\", \"URL\", \"imgURL\", \"Sentiment\"])\n",
    "for article in response[\"articles\"]:\n",
    "    overallSent = (getProbs(article[\"title\"]) + getProbs(article[\"content\"]) + getProbs(article[\"description\"]))/3\n",
    "    to_append = [article[\"title\"], article[\"content\"], article[\"url\"], article[\"urlToImage\"], overallSent]\n",
    "    df.loc[len(df)] = to_append\n",
    "df = df.sort_values(by=['Sentiment'])\n",
    "df = df.reset_index(drop=False)"
   ]
  },
  {
   "cell_type": "code",
   "execution_count": 32,
   "metadata": {},
   "outputs": [
    {
     "name": "stdout",
     "output_type": "stream",
     "text": [
      "https://mashable.com/article/sir-ian-mckellen-birthday-sonnet-patrick-stewart/\n",
      "https://mondrian.mashable.com/2020%252F07%252F14%252F82%252F57c022de59fb45cc864c0a6881008a8e.1200a.jpg%252F1200x630.jpg?signature=VrolWbpTOKYid5z7IFZF8GB2WKY=\n",
      "https://www.engadget.com/kano-build-yourself-windows-10-pc-coding-relaunch-130016706.html\n",
      "https://o.aolcdn.com/images/dims?resize=1200%2C630&crop=1200%2C630%2C0%2C0&quality=95&image_uri=https%3A%2F%2Fs.yimg.com%2Fos%2Fcreatr-uploaded-images%2F2020-07%2Fb35cf710-c5b8-11ea-b7ea-017285b2969b&client=amp-blogside-v2&signature=986ec080123439942cf3df9869924edd9e279666\n",
      "https://mashable.com/article/chance-the-rapper-kanye-west-2020/\n",
      "https://mondrian.mashable.com/2020%252F07%252F13%252Fcd%252Fe7d5f4c5fd7446a2b3679e5b0fda9716.75452.jpg%252F1200x630.jpg?signature=rvTgZ9gsK2JxAep4siVsc7V2FyA=\n",
      "https://skillet.lifehacker.com/turn-your-frappucino-into-an-alcoholic-slushie-1844380775\n",
      "https://i.kinja-img.com/gawker-media/image/upload/c_fill,f_auto,fl_progressive,g_center,h_675,pg_1,q_80,w_1200/hkjnyc9g4fdywpvxkytw.jpg\n",
      "https://offspring.lifehacker.com/parents-take-more-pictures-of-yourself-1844326074\n",
      "https://i.kinja-img.com/gawker-media/image/upload/c_fill,f_auto,fl_progressive,g_center,h_675,pg_1,q_80,w_1200/bjvi2dlbw1uebuzoywww.jpg\n"
     ]
    }
   ],
   "source": [
    "for i in range(len(df)-1, len(df)-6, -1):\n",
    "    print(df.loc[i][\"URL\"])\n",
    "    print(df.loc[i][\"imgURL\"])"
   ]
  },
  {
   "cell_type": "code",
   "execution_count": 31,
   "metadata": {},
   "outputs": [
    {
     "data": {
      "text/html": [
       "<div>\n",
       "<style scoped>\n",
       "    .dataframe tbody tr th:only-of-type {\n",
       "        vertical-align: middle;\n",
       "    }\n",
       "\n",
       "    .dataframe tbody tr th {\n",
       "        vertical-align: top;\n",
       "    }\n",
       "\n",
       "    .dataframe thead th {\n",
       "        text-align: right;\n",
       "    }\n",
       "</style>\n",
       "<table border=\"1\" class=\"dataframe\">\n",
       "  <thead>\n",
       "    <tr style=\"text-align: right;\">\n",
       "      <th></th>\n",
       "      <th>index</th>\n",
       "      <th>Title</th>\n",
       "      <th>Content</th>\n",
       "      <th>URL</th>\n",
       "      <th>imgURL</th>\n",
       "      <th>Sentiment</th>\n",
       "    </tr>\n",
       "  </thead>\n",
       "  <tbody>\n",
       "    <tr>\n",
       "      <th>0</th>\n",
       "      <td>10</td>\n",
       "      <td>Dozens of U.S. Marines Test Positive For Covid...</td>\n",
       "      <td>At least 62 U.S. Marines have tested positive ...</td>\n",
       "      <td>https://gizmodo.com/dozens-of-u-s-marines-test...</td>\n",
       "      <td>https://i.kinja-img.com/gawker-media/image/upl...</td>\n",
       "      <td>0.056106</td>\n",
       "    </tr>\n",
       "    <tr>\n",
       "      <th>1</th>\n",
       "      <td>12</td>\n",
       "      <td>How to Take Impossible Burgers to the Next Lev...</td>\n",
       "      <td>Last night, I logged into a Zoom cooking class...</td>\n",
       "      <td>https://gizmodo.com/how-to-take-impossible-bur...</td>\n",
       "      <td>https://i.kinja-img.com/gawker-media/image/upl...</td>\n",
       "      <td>0.135095</td>\n",
       "    </tr>\n",
       "    <tr>\n",
       "      <th>2</th>\n",
       "      <td>15</td>\n",
       "      <td>Almost 20 years on, Ivanisevic’s Wimbledon sto...</td>\n",
       "      <td>Every sport has stories of underdogs who have ...</td>\n",
       "      <td>https://mashable.com/ad/article/ivanisevic-wim...</td>\n",
       "      <td>https://mondrian.mashable.com/2020%252F07%252F...</td>\n",
       "      <td>0.149794</td>\n",
       "    </tr>\n",
       "    <tr>\n",
       "      <th>3</th>\n",
       "      <td>3</td>\n",
       "      <td>What's Coming to Hulu in August 2020</td>\n",
       "      <td>Early in lockdownwhen I was trying to tell mys...</td>\n",
       "      <td>https://lifehacker.com/whats-coming-to-hulu-in...</td>\n",
       "      <td>https://i.kinja-img.com/gawker-media/image/upl...</td>\n",
       "      <td>0.301395</td>\n",
       "    </tr>\n",
       "    <tr>\n",
       "      <th>4</th>\n",
       "      <td>17</td>\n",
       "      <td>Seniors recreating famous album covers is your...</td>\n",
       "      <td>Residents of senior care facilities around the...</td>\n",
       "      <td>https://mashable.com/article/senior-care-facil...</td>\n",
       "      <td>https://mondrian.mashable.com/2020%252F07%252F...</td>\n",
       "      <td>0.387102</td>\n",
       "    </tr>\n",
       "    <tr>\n",
       "      <th>5</th>\n",
       "      <td>13</td>\n",
       "      <td>Yes, You Should Still Change Your DNS Settings...</td>\n",
       "      <td>The DNS (Domain Name System) server settings o...</td>\n",
       "      <td>https://gizmodo.com/yes-you-should-still-chang...</td>\n",
       "      <td>https://i.kinja-img.com/gawker-media/image/upl...</td>\n",
       "      <td>0.418243</td>\n",
       "    </tr>\n",
       "    <tr>\n",
       "      <th>6</th>\n",
       "      <td>6</td>\n",
       "      <td>Netflix says 'Extraction' and 'Bird Box' are i...</td>\n",
       "      <td>Of interest is that while Netflix’s commission...</td>\n",
       "      <td>https://www.engadget.com/netflix-top-10-origin...</td>\n",
       "      <td>https://o.aolcdn.com/images/dims?resize=1200%2...</td>\n",
       "      <td>0.433266</td>\n",
       "    </tr>\n",
       "    <tr>\n",
       "      <th>7</th>\n",
       "      <td>11</td>\n",
       "      <td>Researchers Created an App That Monitors Your ...</td>\n",
       "      <td>Even though I appreciate that its for a good c...</td>\n",
       "      <td>https://gizmodo.com/researchers-created-an-app...</td>\n",
       "      <td>https://i.kinja-img.com/gawker-media/image/upl...</td>\n",
       "      <td>0.445912</td>\n",
       "    </tr>\n",
       "    <tr>\n",
       "      <th>8</th>\n",
       "      <td>8</td>\n",
       "      <td>Hitting the Books: How to huck a human into lo...</td>\n",
       "      <td>The phrase orbital mechanics—like nuclear part...</td>\n",
       "      <td>https://www.engadget.com/hitting-the-books-shu...</td>\n",
       "      <td>https://o.aolcdn.com/images/dims?resize=1200%2...</td>\n",
       "      <td>0.473907</td>\n",
       "    </tr>\n",
       "    <tr>\n",
       "      <th>9</th>\n",
       "      <td>18</td>\n",
       "      <td>Unlock American Netflix with this discounted VPN</td>\n",
       "      <td>TL;DR: A three-year subscription to Surfshark ...</td>\n",
       "      <td>https://mashable.com/uk/shopping/july-13-surfs...</td>\n",
       "      <td>https://mondrian.mashable.com/2020%252F07%252F...</td>\n",
       "      <td>0.496291</td>\n",
       "    </tr>\n",
       "    <tr>\n",
       "      <th>10</th>\n",
       "      <td>2</td>\n",
       "      <td>Scream Into Your Phone and Have it Played on a...</td>\n",
       "      <td>Have you been so angry, frustrated and/or stre...</td>\n",
       "      <td>https://lifehacker.com/scream-into-your-phone-...</td>\n",
       "      <td>https://i.kinja-img.com/gawker-media/image/upl...</td>\n",
       "      <td>0.599393</td>\n",
       "    </tr>\n",
       "    <tr>\n",
       "      <th>11</th>\n",
       "      <td>14</td>\n",
       "      <td>I'm Too Old to Learn a New Career, and Too You...</td>\n",
       "      <td>Are you a frontline worker dealing with new st...</td>\n",
       "      <td>https://gizmodo.com/im-too-old-to-learn-a-new-...</td>\n",
       "      <td>https://i.kinja-img.com/gawker-media/image/upl...</td>\n",
       "      <td>0.612723</td>\n",
       "    </tr>\n",
       "    <tr>\n",
       "      <th>12</th>\n",
       "      <td>4</td>\n",
       "      <td>How to Introduce Yourself to a Dog</td>\n",
       "      <td>Dogs are the best people, so its only natural ...</td>\n",
       "      <td>https://lifehacker.com/how-to-introduce-yourse...</td>\n",
       "      <td>https://i.kinja-img.com/gawker-media/image/upl...</td>\n",
       "      <td>0.630741</td>\n",
       "    </tr>\n",
       "    <tr>\n",
       "      <th>13</th>\n",
       "      <td>5</td>\n",
       "      <td>Should I Buy an External Graphics Card If My L...</td>\n",
       "      <td>I enjoy playing PC games at reasonable resolut...</td>\n",
       "      <td>https://lifehacker.com/should-i-buy-an-externa...</td>\n",
       "      <td>https://i.kinja-img.com/gawker-media/image/upl...</td>\n",
       "      <td>0.648437</td>\n",
       "    </tr>\n",
       "    <tr>\n",
       "      <th>14</th>\n",
       "      <td>9</td>\n",
       "      <td>Europe’s top court strikes down flagship EU-US...</td>\n",
       "      <td>A highly anticipated ruling by Europe’s top co...</td>\n",
       "      <td>http://techcrunch.com/2020/07/16/europes-top-c...</td>\n",
       "      <td>https://techcrunch.com/wp-content/uploads/2015...</td>\n",
       "      <td>0.713501</td>\n",
       "    </tr>\n",
       "    <tr>\n",
       "      <th>15</th>\n",
       "      <td>1</td>\n",
       "      <td>Parents, Take More Pictures of Yourself</td>\n",
       "      <td>There are lots of reasons that parentsand yes,...</td>\n",
       "      <td>https://offspring.lifehacker.com/parents-take-...</td>\n",
       "      <td>https://i.kinja-img.com/gawker-media/image/upl...</td>\n",
       "      <td>0.727123</td>\n",
       "    </tr>\n",
       "    <tr>\n",
       "      <th>16</th>\n",
       "      <td>0</td>\n",
       "      <td>Turn Your Frappucino Into an Alcoholic Slushie</td>\n",
       "      <td>Bottled Frappuccinos will never fail to transp...</td>\n",
       "      <td>https://skillet.lifehacker.com/turn-your-frapp...</td>\n",
       "      <td>https://i.kinja-img.com/gawker-media/image/upl...</td>\n",
       "      <td>0.813423</td>\n",
       "    </tr>\n",
       "    <tr>\n",
       "      <th>17</th>\n",
       "      <td>19</td>\n",
       "      <td>Chance the Rapper is catching major blowback f...</td>\n",
       "      <td>Chance the Rapper publicly and repeatedly twee...</td>\n",
       "      <td>https://mashable.com/article/chance-the-rapper...</td>\n",
       "      <td>https://mondrian.mashable.com/2020%252F07%252F...</td>\n",
       "      <td>0.817671</td>\n",
       "    </tr>\n",
       "    <tr>\n",
       "      <th>18</th>\n",
       "      <td>7</td>\n",
       "      <td>Kano's $300 DIY Windows 10 PC Kit is finally r...</td>\n",
       "      <td>Kano has made a number of changes, though, for...</td>\n",
       "      <td>https://www.engadget.com/kano-build-yourself-w...</td>\n",
       "      <td>https://o.aolcdn.com/images/dims?resize=1200%2...</td>\n",
       "      <td>0.823239</td>\n",
       "    </tr>\n",
       "    <tr>\n",
       "      <th>19</th>\n",
       "      <td>16</td>\n",
       "      <td>Sir Ian McKellen recorded a very sweet video f...</td>\n",
       "      <td>Sir Patrick Stewart promised us another sonnet...</td>\n",
       "      <td>https://mashable.com/article/sir-ian-mckellen-...</td>\n",
       "      <td>https://mondrian.mashable.com/2020%252F07%252F...</td>\n",
       "      <td>0.995491</td>\n",
       "    </tr>\n",
       "  </tbody>\n",
       "</table>\n",
       "</div>"
      ],
      "text/plain": [
       "    index                                              Title  \\\n",
       "0      10  Dozens of U.S. Marines Test Positive For Covid...   \n",
       "1      12  How to Take Impossible Burgers to the Next Lev...   \n",
       "2      15  Almost 20 years on, Ivanisevic’s Wimbledon sto...   \n",
       "3       3               What's Coming to Hulu in August 2020   \n",
       "4      17  Seniors recreating famous album covers is your...   \n",
       "5      13  Yes, You Should Still Change Your DNS Settings...   \n",
       "6       6  Netflix says 'Extraction' and 'Bird Box' are i...   \n",
       "7      11  Researchers Created an App That Monitors Your ...   \n",
       "8       8  Hitting the Books: How to huck a human into lo...   \n",
       "9      18   Unlock American Netflix with this discounted VPN   \n",
       "10      2  Scream Into Your Phone and Have it Played on a...   \n",
       "11     14  I'm Too Old to Learn a New Career, and Too You...   \n",
       "12      4                 How to Introduce Yourself to a Dog   \n",
       "13      5  Should I Buy an External Graphics Card If My L...   \n",
       "14      9  Europe’s top court strikes down flagship EU-US...   \n",
       "15      1            Parents, Take More Pictures of Yourself   \n",
       "16      0     Turn Your Frappucino Into an Alcoholic Slushie   \n",
       "17     19  Chance the Rapper is catching major blowback f...   \n",
       "18      7  Kano's $300 DIY Windows 10 PC Kit is finally r...   \n",
       "19     16  Sir Ian McKellen recorded a very sweet video f...   \n",
       "\n",
       "                                              Content  \\\n",
       "0   At least 62 U.S. Marines have tested positive ...   \n",
       "1   Last night, I logged into a Zoom cooking class...   \n",
       "2   Every sport has stories of underdogs who have ...   \n",
       "3   Early in lockdownwhen I was trying to tell mys...   \n",
       "4   Residents of senior care facilities around the...   \n",
       "5   The DNS (Domain Name System) server settings o...   \n",
       "6   Of interest is that while Netflix’s commission...   \n",
       "7   Even though I appreciate that its for a good c...   \n",
       "8   The phrase orbital mechanics—like nuclear part...   \n",
       "9   TL;DR: A three-year subscription to Surfshark ...   \n",
       "10  Have you been so angry, frustrated and/or stre...   \n",
       "11  Are you a frontline worker dealing with new st...   \n",
       "12  Dogs are the best people, so its only natural ...   \n",
       "13  I enjoy playing PC games at reasonable resolut...   \n",
       "14  A highly anticipated ruling by Europe’s top co...   \n",
       "15  There are lots of reasons that parentsand yes,...   \n",
       "16  Bottled Frappuccinos will never fail to transp...   \n",
       "17  Chance the Rapper publicly and repeatedly twee...   \n",
       "18  Kano has made a number of changes, though, for...   \n",
       "19  Sir Patrick Stewart promised us another sonnet...   \n",
       "\n",
       "                                                  URL  \\\n",
       "0   https://gizmodo.com/dozens-of-u-s-marines-test...   \n",
       "1   https://gizmodo.com/how-to-take-impossible-bur...   \n",
       "2   https://mashable.com/ad/article/ivanisevic-wim...   \n",
       "3   https://lifehacker.com/whats-coming-to-hulu-in...   \n",
       "4   https://mashable.com/article/senior-care-facil...   \n",
       "5   https://gizmodo.com/yes-you-should-still-chang...   \n",
       "6   https://www.engadget.com/netflix-top-10-origin...   \n",
       "7   https://gizmodo.com/researchers-created-an-app...   \n",
       "8   https://www.engadget.com/hitting-the-books-shu...   \n",
       "9   https://mashable.com/uk/shopping/july-13-surfs...   \n",
       "10  https://lifehacker.com/scream-into-your-phone-...   \n",
       "11  https://gizmodo.com/im-too-old-to-learn-a-new-...   \n",
       "12  https://lifehacker.com/how-to-introduce-yourse...   \n",
       "13  https://lifehacker.com/should-i-buy-an-externa...   \n",
       "14  http://techcrunch.com/2020/07/16/europes-top-c...   \n",
       "15  https://offspring.lifehacker.com/parents-take-...   \n",
       "16  https://skillet.lifehacker.com/turn-your-frapp...   \n",
       "17  https://mashable.com/article/chance-the-rapper...   \n",
       "18  https://www.engadget.com/kano-build-yourself-w...   \n",
       "19  https://mashable.com/article/sir-ian-mckellen-...   \n",
       "\n",
       "                                               imgURL  Sentiment  \n",
       "0   https://i.kinja-img.com/gawker-media/image/upl...   0.056106  \n",
       "1   https://i.kinja-img.com/gawker-media/image/upl...   0.135095  \n",
       "2   https://mondrian.mashable.com/2020%252F07%252F...   0.149794  \n",
       "3   https://i.kinja-img.com/gawker-media/image/upl...   0.301395  \n",
       "4   https://mondrian.mashable.com/2020%252F07%252F...   0.387102  \n",
       "5   https://i.kinja-img.com/gawker-media/image/upl...   0.418243  \n",
       "6   https://o.aolcdn.com/images/dims?resize=1200%2...   0.433266  \n",
       "7   https://i.kinja-img.com/gawker-media/image/upl...   0.445912  \n",
       "8   https://o.aolcdn.com/images/dims?resize=1200%2...   0.473907  \n",
       "9   https://mondrian.mashable.com/2020%252F07%252F...   0.496291  \n",
       "10  https://i.kinja-img.com/gawker-media/image/upl...   0.599393  \n",
       "11  https://i.kinja-img.com/gawker-media/image/upl...   0.612723  \n",
       "12  https://i.kinja-img.com/gawker-media/image/upl...   0.630741  \n",
       "13  https://i.kinja-img.com/gawker-media/image/upl...   0.648437  \n",
       "14  https://techcrunch.com/wp-content/uploads/2015...   0.713501  \n",
       "15  https://i.kinja-img.com/gawker-media/image/upl...   0.727123  \n",
       "16  https://i.kinja-img.com/gawker-media/image/upl...   0.813423  \n",
       "17  https://mondrian.mashable.com/2020%252F07%252F...   0.817671  \n",
       "18  https://o.aolcdn.com/images/dims?resize=1200%2...   0.823239  \n",
       "19  https://mondrian.mashable.com/2020%252F07%252F...   0.995491  "
      ]
     },
     "execution_count": 31,
     "metadata": {},
     "output_type": "execute_result"
    }
   ],
   "source": [
    "df"
   ]
  },
  {
   "cell_type": "code",
   "execution_count": null,
   "metadata": {},
   "outputs": [],
   "source": []
  }
 ],
 "metadata": {
  "kernelspec": {
   "display_name": "Python 3",
   "language": "python",
   "name": "python3"
  },
  "language_info": {
   "codemirror_mode": {
    "name": "ipython",
    "version": 3
   },
   "file_extension": ".py",
   "mimetype": "text/x-python",
   "name": "python",
   "nbconvert_exporter": "python",
   "pygments_lexer": "ipython3",
   "version": "3.8.4rc1"
  }
 },
 "nbformat": 4,
 "nbformat_minor": 4
}
